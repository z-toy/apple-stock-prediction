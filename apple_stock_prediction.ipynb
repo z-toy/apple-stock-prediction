{
  "nbformat": 4,
  "nbformat_minor": 0,
  "metadata": {
    "colab": {
      "provenance": []
    },
    "kernelspec": {
      "name": "python3",
      "display_name": "Python 3"
    },
    "language_info": {
      "name": "python"
    }
  },
  "cells": [
    {
      "cell_type": "markdown",
      "source": [
        "#Project: Predicting Apple Stock Prices Using Pandas and Scikit-learn"
      ],
      "metadata": {
        "id": "IfxX_a72R_7S"
      }
    },
    {
      "cell_type": "markdown",
      "source": [
        "Let’s say that we are trading stocks. We’re interested in making profitable stock trades with minimal risk. So when we buy a stock, we want to be fairly certain that the price will increase. We’ll buy stock when the market opens, and sell it when the market closes."
      ],
      "metadata": {
        "id": "U-p0A43xSP-i"
      }
    },
    {
      "cell_type": "markdown",
      "source": [
        "#Machine learning setup\n",
        "To tell us when to trade, we want to train a machine learning model. This model needs to predict tomorrow’s closing price using data from today. If the model says that the price will increase, we’ll buy stock. If the model says that the price will go down, we won’t do anything.\n",
        "\n",
        "We want to maximize our true positives – days when the model predicts that the price will go up, and it actually goes go up. Therefore, we’ll be using precision as our error metric for our model, which is true positives / (false positives + true positives). This will ensure that we minimize how much money we lose with false positives (days when we buy the stock, but the price actually goes down).\n",
        "\n",
        "This means that we will have to accept a lot of false negatives – days when we predict that the price will go down, but it actually goes up. This is okay, since we’d rather minimize our potential losses than maximize our potential gains.\n",
        "\n",
        "So our model will have low recall, but high precision. Here is more on precision and recall.\n",
        "\n",
        "#Method\n",
        "Before we get to the machine learning, we need to do a lot of work to acquire and clean up the data. Here are the steps we'll follow:\n",
        "- Download historical stock prices from Yahoo finance\n",
        "- Explore the data\n",
        "- Setup the dataset to predict future prices using historical prices\n",
        "- Test a machine learning model\n",
        "- Setup a backtesting engine\n",
        "- Improve the accuracy of the model\n",
        "\n",
        "At the end, we'll document some potential future directions we can go in to improve the technique.\n",
        "\n",
        "#Downloading the data\n",
        "First, we'll download the data from Kaggle. We'll save the data after we download it, so we don't have to re-download it every time (this could cause our IP to get blocked).\n",
        "\n",
        "We'll use data for a single stock (Apple) from when it started trading to the present."
      ],
      "metadata": {
        "id": "dw19U_NoSXi5"
      }
    },
    {
      "cell_type": "code",
      "source": [
        "!pip install yfinance\n",
        "import yfinance as yf\n",
        "import os\n",
        "import json\n",
        "import pandas as pd\n",
        "\n",
        "DATA_PATH = \"aapl_data.json\"\n",
        "\n",
        "if os.path.exists(DATA_PATH):\n",
        "    # Read from file if we've already downloaded the data.\n",
        "    with open(DATA_PATH) as f:\n",
        "        apple_hist = pd.read_json(DATA_PATH)\n",
        "else:\n",
        "    apple = yf.Ticker(\"AAPL\")\n",
        "    apple_hist = apple.history(period=\"max\")\n",
        "\n",
        "    # Save file to json in case we need it later.  This prevents us from having to re-download it every time.\n",
        "    apple_hist.to_json(DATA_PATH)"
      ],
      "metadata": {
        "id": "QLJcaBbiXRP3",
        "colab": {
          "base_uri": "https://localhost:8080/"
        },
        "outputId": "aa699c49-d74e-4ac9-fffb-a35106c88f60"
      },
      "execution_count": null,
      "outputs": [
        {
          "output_type": "stream",
          "name": "stdout",
          "text": [
            "Looking in indexes: https://pypi.org/simple, https://us-python.pkg.dev/colab-wheels/public/simple/\n",
            "Collecting yfinance\n",
            "  Downloading yfinance-0.2.3-py2.py3-none-any.whl (50 kB)\n",
            "\u001b[2K     \u001b[90m━━━━━━━━━━━━━━━━━━━━━━━━━━━━━━━━━━━━━━━━\u001b[0m \u001b[32m50.4/50.4 KB\u001b[0m \u001b[31m1.1 MB/s\u001b[0m eta \u001b[36m0:00:00\u001b[0m\n",
            "\u001b[?25hCollecting frozendict>=2.3.4\n",
            "  Downloading frozendict-2.3.4-cp38-cp38-manylinux_2_17_x86_64.manylinux2014_x86_64.whl (110 kB)\n",
            "\u001b[2K     \u001b[90m━━━━━━━━━━━━━━━━━━━━━━━━━━━━━━━━━━━━━━━\u001b[0m \u001b[32m111.0/111.0 KB\u001b[0m \u001b[31m4.4 MB/s\u001b[0m eta \u001b[36m0:00:00\u001b[0m\n",
            "\u001b[?25hCollecting beautifulsoup4>=4.11.1\n",
            "  Downloading beautifulsoup4-4.11.1-py3-none-any.whl (128 kB)\n",
            "\u001b[2K     \u001b[90m━━━━━━━━━━━━━━━━━━━━━━━━━━━━━━━━━━━━━━━\u001b[0m \u001b[32m128.2/128.2 KB\u001b[0m \u001b[31m6.2 MB/s\u001b[0m eta \u001b[36m0:00:00\u001b[0m\n",
            "\u001b[?25hRequirement already satisfied: pytz>=2022.5 in /usr/local/lib/python3.8/dist-packages (from yfinance) (2022.7)\n",
            "Requirement already satisfied: numpy>=1.16.5 in /usr/local/lib/python3.8/dist-packages (from yfinance) (1.21.6)\n",
            "Collecting cryptography>=3.3.2\n",
            "  Downloading cryptography-39.0.0-cp36-abi3-manylinux_2_24_x86_64.whl (4.1 MB)\n",
            "\u001b[2K     \u001b[90m━━━━━━━━━━━━━━━━━━━━━━━━━━━━━━━━━━━━━━━━\u001b[0m \u001b[32m4.1/4.1 MB\u001b[0m \u001b[31m26.0 MB/s\u001b[0m eta \u001b[36m0:00:00\u001b[0m\n",
            "\u001b[?25hRequirement already satisfied: multitasking>=0.0.7 in /usr/local/lib/python3.8/dist-packages (from yfinance) (0.0.11)\n",
            "Requirement already satisfied: pandas>=1.3.0 in /usr/local/lib/python3.8/dist-packages (from yfinance) (1.3.5)\n",
            "Collecting requests>=2.26\n",
            "  Downloading requests-2.28.2-py3-none-any.whl (62 kB)\n",
            "\u001b[2K     \u001b[90m━━━━━━━━━━━━━━━━━━━━━━━━━━━━━━━━━━━━━━━━\u001b[0m \u001b[32m62.8/62.8 KB\u001b[0m \u001b[31m3.3 MB/s\u001b[0m eta \u001b[36m0:00:00\u001b[0m\n",
            "\u001b[?25hRequirement already satisfied: appdirs>=1.4.4 in /usr/local/lib/python3.8/dist-packages (from yfinance) (1.4.4)\n",
            "Requirement already satisfied: lxml>=4.9.1 in /usr/local/lib/python3.8/dist-packages (from yfinance) (4.9.2)\n",
            "Collecting html5lib>=1.1\n",
            "  Downloading html5lib-1.1-py2.py3-none-any.whl (112 kB)\n",
            "\u001b[2K     \u001b[90m━━━━━━━━━━━━━━━━━━━━━━━━━━━━━━━━━━━━━━━\u001b[0m \u001b[32m112.2/112.2 KB\u001b[0m \u001b[31m8.5 MB/s\u001b[0m eta \u001b[36m0:00:00\u001b[0m\n",
            "\u001b[?25hCollecting soupsieve>1.2\n",
            "  Downloading soupsieve-2.3.2.post1-py3-none-any.whl (37 kB)\n",
            "Requirement already satisfied: cffi>=1.12 in /usr/local/lib/python3.8/dist-packages (from cryptography>=3.3.2->yfinance) (1.15.1)\n",
            "Requirement already satisfied: webencodings in /usr/local/lib/python3.8/dist-packages (from html5lib>=1.1->yfinance) (0.5.1)\n",
            "Requirement already satisfied: six>=1.9 in /usr/local/lib/python3.8/dist-packages (from html5lib>=1.1->yfinance) (1.15.0)\n",
            "Requirement already satisfied: python-dateutil>=2.7.3 in /usr/local/lib/python3.8/dist-packages (from pandas>=1.3.0->yfinance) (2.8.2)\n",
            "Requirement already satisfied: charset-normalizer<4,>=2 in /usr/local/lib/python3.8/dist-packages (from requests>=2.26->yfinance) (2.1.1)\n",
            "Requirement already satisfied: certifi>=2017.4.17 in /usr/local/lib/python3.8/dist-packages (from requests>=2.26->yfinance) (2022.12.7)\n",
            "Requirement already satisfied: idna<4,>=2.5 in /usr/local/lib/python3.8/dist-packages (from requests>=2.26->yfinance) (2.10)\n",
            "Requirement already satisfied: urllib3<1.27,>=1.21.1 in /usr/local/lib/python3.8/dist-packages (from requests>=2.26->yfinance) (1.24.3)\n",
            "Requirement already satisfied: pycparser in /usr/local/lib/python3.8/dist-packages (from cffi>=1.12->cryptography>=3.3.2->yfinance) (2.21)\n",
            "Installing collected packages: soupsieve, requests, html5lib, frozendict, cryptography, beautifulsoup4, yfinance\n",
            "  Attempting uninstall: requests\n",
            "    Found existing installation: requests 2.25.1\n",
            "    Uninstalling requests-2.25.1:\n",
            "      Successfully uninstalled requests-2.25.1\n",
            "  Attempting uninstall: html5lib\n",
            "    Found existing installation: html5lib 1.0.1\n",
            "    Uninstalling html5lib-1.0.1:\n",
            "      Successfully uninstalled html5lib-1.0.1\n",
            "  Attempting uninstall: beautifulsoup4\n",
            "    Found existing installation: beautifulsoup4 4.6.3\n",
            "    Uninstalling beautifulsoup4-4.6.3:\n",
            "      Successfully uninstalled beautifulsoup4-4.6.3\n",
            "Successfully installed beautifulsoup4-4.11.1 cryptography-39.0.0 frozendict-2.3.4 html5lib-1.1 requests-2.28.2 soupsieve-2.3.2.post1 yfinance-0.2.3\n"
          ]
        }
      ]
    },
    {
      "cell_type": "markdown",
      "source": [
        "#Exploring the data\n",
        "Next, we can take a look at googl to see the structure of the data. We’ll use the .head method on DataFrames to check the first 5 rows of the data.\n",
        "\n",
        "As we can see below, we have one row of data for each day that Apple stock was traded up to March 24, 2022. Here are the columns:\n",
        "\n",
        "- Open – the price the stock opened at\n",
        "- High – the highest price during the day\n",
        "- Low – the lowest price during the day\n",
        "- Close – the closing price on the trading day\n",
        "- Volume – how many shares were traded\n",
        "\n",
        "The row index of the DataFrame is the date the stock was traded. Stock doesn’t trade every day (there is no trading on weekends and holidays), so some dates are missing."
      ],
      "metadata": {
        "id": "1cvlxHPcSsRU"
      }
    },
    {
      "cell_type": "code",
      "source": [
        "apple_hist.head()"
      ],
      "metadata": {
        "colab": {
          "base_uri": "https://localhost:8080/",
          "height": 238
        },
        "id": "Kh6ahLWbMEzU",
        "outputId": "40b0bc5f-bd29-4beb-faa3-55cdd5ea78f2"
      },
      "execution_count": null,
      "outputs": [
        {
          "output_type": "execute_result",
          "data": {
            "text/plain": [
              "                               Open      High       Low     Close     Volume  \\\n",
              "Date                                                                           \n",
              "1980-12-12 00:00:00-05:00  0.099874  0.100308  0.099874  0.099874  469033600   \n",
              "1980-12-15 00:00:00-05:00  0.095098  0.095098  0.094663  0.094663  175884800   \n",
              "1980-12-16 00:00:00-05:00  0.088149  0.088149  0.087715  0.087715  105728000   \n",
              "1980-12-17 00:00:00-05:00  0.089886  0.090320  0.089886  0.089886   86441600   \n",
              "1980-12-18 00:00:00-05:00  0.092492  0.092926  0.092492  0.092492   73449600   \n",
              "\n",
              "                           Dividends  Stock Splits  \n",
              "Date                                                \n",
              "1980-12-12 00:00:00-05:00        0.0           0.0  \n",
              "1980-12-15 00:00:00-05:00        0.0           0.0  \n",
              "1980-12-16 00:00:00-05:00        0.0           0.0  \n",
              "1980-12-17 00:00:00-05:00        0.0           0.0  \n",
              "1980-12-18 00:00:00-05:00        0.0           0.0  "
            ],
            "text/html": [
              "\n",
              "  <div id=\"df-896a3b12-c47b-4d4f-b893-c35f3ae9111f\">\n",
              "    <div class=\"colab-df-container\">\n",
              "      <div>\n",
              "<style scoped>\n",
              "    .dataframe tbody tr th:only-of-type {\n",
              "        vertical-align: middle;\n",
              "    }\n",
              "\n",
              "    .dataframe tbody tr th {\n",
              "        vertical-align: top;\n",
              "    }\n",
              "\n",
              "    .dataframe thead th {\n",
              "        text-align: right;\n",
              "    }\n",
              "</style>\n",
              "<table border=\"1\" class=\"dataframe\">\n",
              "  <thead>\n",
              "    <tr style=\"text-align: right;\">\n",
              "      <th></th>\n",
              "      <th>Open</th>\n",
              "      <th>High</th>\n",
              "      <th>Low</th>\n",
              "      <th>Close</th>\n",
              "      <th>Volume</th>\n",
              "      <th>Dividends</th>\n",
              "      <th>Stock Splits</th>\n",
              "    </tr>\n",
              "    <tr>\n",
              "      <th>Date</th>\n",
              "      <th></th>\n",
              "      <th></th>\n",
              "      <th></th>\n",
              "      <th></th>\n",
              "      <th></th>\n",
              "      <th></th>\n",
              "      <th></th>\n",
              "    </tr>\n",
              "  </thead>\n",
              "  <tbody>\n",
              "    <tr>\n",
              "      <th>1980-12-12 00:00:00-05:00</th>\n",
              "      <td>0.099874</td>\n",
              "      <td>0.100308</td>\n",
              "      <td>0.099874</td>\n",
              "      <td>0.099874</td>\n",
              "      <td>469033600</td>\n",
              "      <td>0.0</td>\n",
              "      <td>0.0</td>\n",
              "    </tr>\n",
              "    <tr>\n",
              "      <th>1980-12-15 00:00:00-05:00</th>\n",
              "      <td>0.095098</td>\n",
              "      <td>0.095098</td>\n",
              "      <td>0.094663</td>\n",
              "      <td>0.094663</td>\n",
              "      <td>175884800</td>\n",
              "      <td>0.0</td>\n",
              "      <td>0.0</td>\n",
              "    </tr>\n",
              "    <tr>\n",
              "      <th>1980-12-16 00:00:00-05:00</th>\n",
              "      <td>0.088149</td>\n",
              "      <td>0.088149</td>\n",
              "      <td>0.087715</td>\n",
              "      <td>0.087715</td>\n",
              "      <td>105728000</td>\n",
              "      <td>0.0</td>\n",
              "      <td>0.0</td>\n",
              "    </tr>\n",
              "    <tr>\n",
              "      <th>1980-12-17 00:00:00-05:00</th>\n",
              "      <td>0.089886</td>\n",
              "      <td>0.090320</td>\n",
              "      <td>0.089886</td>\n",
              "      <td>0.089886</td>\n",
              "      <td>86441600</td>\n",
              "      <td>0.0</td>\n",
              "      <td>0.0</td>\n",
              "    </tr>\n",
              "    <tr>\n",
              "      <th>1980-12-18 00:00:00-05:00</th>\n",
              "      <td>0.092492</td>\n",
              "      <td>0.092926</td>\n",
              "      <td>0.092492</td>\n",
              "      <td>0.092492</td>\n",
              "      <td>73449600</td>\n",
              "      <td>0.0</td>\n",
              "      <td>0.0</td>\n",
              "    </tr>\n",
              "  </tbody>\n",
              "</table>\n",
              "</div>\n",
              "      <button class=\"colab-df-convert\" onclick=\"convertToInteractive('df-896a3b12-c47b-4d4f-b893-c35f3ae9111f')\"\n",
              "              title=\"Convert this dataframe to an interactive table.\"\n",
              "              style=\"display:none;\">\n",
              "        \n",
              "  <svg xmlns=\"http://www.w3.org/2000/svg\" height=\"24px\"viewBox=\"0 0 24 24\"\n",
              "       width=\"24px\">\n",
              "    <path d=\"M0 0h24v24H0V0z\" fill=\"none\"/>\n",
              "    <path d=\"M18.56 5.44l.94 2.06.94-2.06 2.06-.94-2.06-.94-.94-2.06-.94 2.06-2.06.94zm-11 1L8.5 8.5l.94-2.06 2.06-.94-2.06-.94L8.5 2.5l-.94 2.06-2.06.94zm10 10l.94 2.06.94-2.06 2.06-.94-2.06-.94-.94-2.06-.94 2.06-2.06.94z\"/><path d=\"M17.41 7.96l-1.37-1.37c-.4-.4-.92-.59-1.43-.59-.52 0-1.04.2-1.43.59L10.3 9.45l-7.72 7.72c-.78.78-.78 2.05 0 2.83L4 21.41c.39.39.9.59 1.41.59.51 0 1.02-.2 1.41-.59l7.78-7.78 2.81-2.81c.8-.78.8-2.07 0-2.86zM5.41 20L4 18.59l7.72-7.72 1.47 1.35L5.41 20z\"/>\n",
              "  </svg>\n",
              "      </button>\n",
              "      \n",
              "  <style>\n",
              "    .colab-df-container {\n",
              "      display:flex;\n",
              "      flex-wrap:wrap;\n",
              "      gap: 12px;\n",
              "    }\n",
              "\n",
              "    .colab-df-convert {\n",
              "      background-color: #E8F0FE;\n",
              "      border: none;\n",
              "      border-radius: 50%;\n",
              "      cursor: pointer;\n",
              "      display: none;\n",
              "      fill: #1967D2;\n",
              "      height: 32px;\n",
              "      padding: 0 0 0 0;\n",
              "      width: 32px;\n",
              "    }\n",
              "\n",
              "    .colab-df-convert:hover {\n",
              "      background-color: #E2EBFA;\n",
              "      box-shadow: 0px 1px 2px rgba(60, 64, 67, 0.3), 0px 1px 3px 1px rgba(60, 64, 67, 0.15);\n",
              "      fill: #174EA6;\n",
              "    }\n",
              "\n",
              "    [theme=dark] .colab-df-convert {\n",
              "      background-color: #3B4455;\n",
              "      fill: #D2E3FC;\n",
              "    }\n",
              "\n",
              "    [theme=dark] .colab-df-convert:hover {\n",
              "      background-color: #434B5C;\n",
              "      box-shadow: 0px 1px 3px 1px rgba(0, 0, 0, 0.15);\n",
              "      filter: drop-shadow(0px 1px 2px rgba(0, 0, 0, 0.3));\n",
              "      fill: #FFFFFF;\n",
              "    }\n",
              "  </style>\n",
              "\n",
              "      <script>\n",
              "        const buttonEl =\n",
              "          document.querySelector('#df-896a3b12-c47b-4d4f-b893-c35f3ae9111f button.colab-df-convert');\n",
              "        buttonEl.style.display =\n",
              "          google.colab.kernel.accessAllowed ? 'block' : 'none';\n",
              "\n",
              "        async function convertToInteractive(key) {\n",
              "          const element = document.querySelector('#df-896a3b12-c47b-4d4f-b893-c35f3ae9111f');\n",
              "          const dataTable =\n",
              "            await google.colab.kernel.invokeFunction('convertToInteractive',\n",
              "                                                     [key], {});\n",
              "          if (!dataTable) return;\n",
              "\n",
              "          const docLinkHtml = 'Like what you see? Visit the ' +\n",
              "            '<a target=\"_blank\" href=https://colab.research.google.com/notebooks/data_table.ipynb>data table notebook</a>'\n",
              "            + ' to learn more about interactive tables.';\n",
              "          element.innerHTML = '';\n",
              "          dataTable['output_type'] = 'display_data';\n",
              "          await google.colab.output.renderOutput(dataTable, element);\n",
              "          const docLink = document.createElement('div');\n",
              "          docLink.innerHTML = docLinkHtml;\n",
              "          element.appendChild(docLink);\n",
              "        }\n",
              "      </script>\n",
              "    </div>\n",
              "  </div>\n",
              "  "
            ]
          },
          "metadata": {},
          "execution_count": 2
        }
      ]
    },
    {
      "cell_type": "markdown",
      "source": [
        "Next, we'll plot the data so we can see how the stock price has changed over time. This gives us another overview of the structure of the data."
      ],
      "metadata": {
        "id": "3d3Xc39NXA5G"
      }
    },
    {
      "cell_type": "code",
      "source": [
        "apple_hist.plot(y=\"Close\")"
      ],
      "metadata": {
        "colab": {
          "base_uri": "https://localhost:8080/",
          "height": 287
        },
        "id": "dyjL1zynMXmt",
        "outputId": "d3fb661f-618b-40da-9639-912606dacfbe"
      },
      "execution_count": null,
      "outputs": [
        {
          "output_type": "execute_result",
          "data": {
            "text/plain": [
              "<matplotlib.axes._subplots.AxesSubplot at 0x7fab531bb340>"
            ]
          },
          "metadata": {},
          "execution_count": 3
        },
        {
          "output_type": "display_data",
          "data": {
            "text/plain": [
              "<Figure size 432x288 with 1 Axes>"
            ],
            "image/png": "[encoded data removed]"
          },
          "metadata": {
            "needs_background": "light"
          }
        }
      ]
    },
    {
      "cell_type": "markdown",
      "source": [
        "#Preparing the data\n",
        "Now, let’s prepare the data so we can make predictions. As we mentioned in the introduction, we’ll be predicting if the price will go up or down tomorrow based on data from today.\n",
        "\n",
        "First, we’ll identify a target that we’re trying to predict. Our target will be if the price will go up or down tomorrow. If the price went up, the target will be 1, and if it went down, the target will be 0.\n",
        "\n",
        "Next, we’ll shift the data from previous days “forward” one day, so we can use it to predict the target price. This ensures that we don’t accidentally use data from the same day to make predictions! (a very common mistake)\n",
        "\n",
        "Then, we’ll combine both so we have our training data.\n",
        "\n",
        "#Setting up the target\n",
        "First, we setup the target.\n",
        "\n",
        "We do this by first copying the Close column to a new DataFrame called data and renaming it to actual_close. This ensures that we can continue to see the value that the stock actually closed at on each day. (we’ll be shifting things around later, so it’s important to preserve this).\n",
        "\n",
        "Then, we setup our target by doing the following:\n",
        "- Using the pandas rolling method across every 2 rows of the DataFrame. This will first look at (‘1986-03-13’, ‘1986-03-14’), then (‘1986-03-14’, ‘1986-03-17’), and so on across the DataFrame.\n",
        "- We will compare the second row to the first row to see if it is greater. If it is, return 1, otherwise 0.\n",
        "- We then just look at the Close column.\n",
        "\n",
        "As you can see above, the Target column now indicates if the price went up or down on the given day. If Target is 1, the price went up. If Target is 0, the price went down.\n",
        "\n",
        "This is what we want our machine learning model to predict!"
      ],
      "metadata": {
        "id": "NsiZVcsSS9VR"
      }
    },
    {
      "cell_type": "code",
      "source": [
        "# Ensure we know the actual closing price\n",
        "data = apple_hist[[\"Close\"]]\n",
        "data = data.rename(columns = {'Close':'Actual_Close'})\n",
        "\n",
        "# Setup our target.  This identifies if the price went up or down\n",
        "data[\"Target\"] = apple_hist.rolling(2).apply(lambda x: x.iloc[1] > x.iloc[0])[\"Close\"]\n",
        "data.head()\n",
        "\n",
        "# If Target is 1, the price went up. If Target is 0, the price went down."
      ],
      "metadata": {
        "colab": {
          "base_uri": "https://localhost:8080/",
          "height": 238
        },
        "id": "feT74oZdOkMC",
        "outputId": "9d7c05e9-687a-4b49-ae5c-f1c814eb8531"
      },
      "execution_count": null,
      "outputs": [
        {
          "output_type": "execute_result",
          "data": {
            "text/plain": [
              "                           Actual_Close  Target\n",
              "Date                                           \n",
              "1980-12-12 00:00:00-05:00      0.099874     NaN\n",
              "1980-12-15 00:00:00-05:00      0.094663     0.0\n",
              "1980-12-16 00:00:00-05:00      0.087715     0.0\n",
              "1980-12-17 00:00:00-05:00      0.089886     1.0\n",
              "1980-12-18 00:00:00-05:00      0.092492     1.0"
            ],
            "text/html": [
              "\n",
              "  <div id=\"df-f4d05953-6a4b-45e5-97aa-385687e601a1\">\n",
              "    <div class=\"colab-df-container\">\n",
              "      <div>\n",
              "<style scoped>\n",
              "    .dataframe tbody tr th:only-of-type {\n",
              "        vertical-align: middle;\n",
              "    }\n",
              "\n",
              "    .dataframe tbody tr th {\n",
              "        vertical-align: top;\n",
              "    }\n",
              "\n",
              "    .dataframe thead th {\n",
              "        text-align: right;\n",
              "    }\n",
              "</style>\n",
              "<table border=\"1\" class=\"dataframe\">\n",
              "  <thead>\n",
              "    <tr style=\"text-align: right;\">\n",
              "      <th></th>\n",
              "      <th>Actual_Close</th>\n",
              "      <th>Target</th>\n",
              "    </tr>\n",
              "    <tr>\n",
              "      <th>Date</th>\n",
              "      <th></th>\n",
              "      <th></th>\n",
              "    </tr>\n",
              "  </thead>\n",
              "  <tbody>\n",
              "    <tr>\n",
              "      <th>1980-12-12 00:00:00-05:00</th>\n",
              "      <td>0.099874</td>\n",
              "      <td>NaN</td>\n",
              "    </tr>\n",
              "    <tr>\n",
              "      <th>1980-12-15 00:00:00-05:00</th>\n",
              "      <td>0.094663</td>\n",
              "      <td>0.0</td>\n",
              "    </tr>\n",
              "    <tr>\n",
              "      <th>1980-12-16 00:00:00-05:00</th>\n",
              "      <td>0.087715</td>\n",
              "      <td>0.0</td>\n",
              "    </tr>\n",
              "    <tr>\n",
              "      <th>1980-12-17 00:00:00-05:00</th>\n",
              "      <td>0.089886</td>\n",
              "      <td>1.0</td>\n",
              "    </tr>\n",
              "    <tr>\n",
              "      <th>1980-12-18 00:00:00-05:00</th>\n",
              "      <td>0.092492</td>\n",
              "      <td>1.0</td>\n",
              "    </tr>\n",
              "  </tbody>\n",
              "</table>\n",
              "</div>\n",
              "      <button class=\"colab-df-convert\" onclick=\"convertToInteractive('df-f4d05953-6a4b-45e5-97aa-385687e601a1')\"\n",
              "              title=\"Convert this dataframe to an interactive table.\"\n",
              "              style=\"display:none;\">\n",
              "        \n",
              "  <svg xmlns=\"http://www.w3.org/2000/svg\" height=\"24px\"viewBox=\"0 0 24 24\"\n",
              "       width=\"24px\">\n",
              "    <path d=\"M0 0h24v24H0V0z\" fill=\"none\"/>\n",
              "    <path d=\"M18.56 5.44l.94 2.06.94-2.06 2.06-.94-2.06-.94-.94-2.06-.94 2.06-2.06.94zm-11 1L8.5 8.5l.94-2.06 2.06-.94-2.06-.94L8.5 2.5l-.94 2.06-2.06.94zm10 10l.94 2.06.94-2.06 2.06-.94-2.06-.94-.94-2.06-.94 2.06-2.06.94z\"/><path d=\"M17.41 7.96l-1.37-1.37c-.4-.4-.92-.59-1.43-.59-.52 0-1.04.2-1.43.59L10.3 9.45l-7.72 7.72c-.78.78-.78 2.05 0 2.83L4 21.41c.39.39.9.59 1.41.59.51 0 1.02-.2 1.41-.59l7.78-7.78 2.81-2.81c.8-.78.8-2.07 0-2.86zM5.41 20L4 18.59l7.72-7.72 1.47 1.35L5.41 20z\"/>\n",
              "  </svg>\n",
              "      </button>\n",
              "      \n",
              "  <style>\n",
              "    .colab-df-container {\n",
              "      display:flex;\n",
              "      flex-wrap:wrap;\n",
              "      gap: 12px;\n",
              "    }\n",
              "\n",
              "    .colab-df-convert {\n",
              "      background-color: #E8F0FE;\n",
              "      border: none;\n",
              "      border-radius: 50%;\n",
              "      cursor: pointer;\n",
              "      display: none;\n",
              "      fill: #1967D2;\n",
              "      height: 32px;\n",
              "      padding: 0 0 0 0;\n",
              "      width: 32px;\n",
              "    }\n",
              "\n",
              "    .colab-df-convert:hover {\n",
              "      background-color: #E2EBFA;\n",
              "      box-shadow: 0px 1px 2px rgba(60, 64, 67, 0.3), 0px 1px 3px 1px rgba(60, 64, 67, 0.15);\n",
              "      fill: #174EA6;\n",
              "    }\n",
              "\n",
              "    [theme=dark] .colab-df-convert {\n",
              "      background-color: #3B4455;\n",
              "      fill: #D2E3FC;\n",
              "    }\n",
              "\n",
              "    [theme=dark] .colab-df-convert:hover {\n",
              "      background-color: #434B5C;\n",
              "      box-shadow: 0px 1px 3px 1px rgba(0, 0, 0, 0.15);\n",
              "      filter: drop-shadow(0px 1px 2px rgba(0, 0, 0, 0.3));\n",
              "      fill: #FFFFFF;\n",
              "    }\n",
              "  </style>\n",
              "\n",
              "      <script>\n",
              "        const buttonEl =\n",
              "          document.querySelector('#df-f4d05953-6a4b-45e5-97aa-385687e601a1 button.colab-df-convert');\n",
              "        buttonEl.style.display =\n",
              "          google.colab.kernel.accessAllowed ? 'block' : 'none';\n",
              "\n",
              "        async function convertToInteractive(key) {\n",
              "          const element = document.querySelector('#df-f4d05953-6a4b-45e5-97aa-385687e601a1');\n",
              "          const dataTable =\n",
              "            await google.colab.kernel.invokeFunction('convertToInteractive',\n",
              "                                                     [key], {});\n",
              "          if (!dataTable) return;\n",
              "\n",
              "          const docLinkHtml = 'Like what you see? Visit the ' +\n",
              "            '<a target=\"_blank\" href=https://colab.research.google.com/notebooks/data_table.ipynb>data table notebook</a>'\n",
              "            + ' to learn more about interactive tables.';\n",
              "          element.innerHTML = '';\n",
              "          dataTable['output_type'] = 'display_data';\n",
              "          await google.colab.output.renderOutput(dataTable, element);\n",
              "          const docLink = document.createElement('div');\n",
              "          docLink.innerHTML = docLinkHtml;\n",
              "          element.appendChild(docLink);\n",
              "        }\n",
              "      </script>\n",
              "    </div>\n",
              "  </div>\n",
              "  "
            ]
          },
          "metadata": {},
          "execution_count": 4
        }
      ]
    },
    {
      "cell_type": "markdown",
      "source": [
        "#Shifting data “forward”\n",
        "Next, we’ll use the DataFrame shift method to move all rows “forward” one trading day.\n",
        "\n",
        "As you can see, the prices for 1986-03-13 are now associated with 1986-03-14, and every other price is shifted up one row. This is to ensure that we’re predicting future prices using past data.\n",
        "\n",
        "If we didn’t do this, we’d be using data from 03-14 to predict prices on 03-14. Instead, we need to use data from 03-13 to predict prices on 03-14. If we don’t do this, our model will look amazing when we’re testing it, but won’t work at all in the real world. In the real world, we don’t actually know the price tomorrow, so we can’t use it to make our predictions."
      ],
      "metadata": {
        "id": "5kzpFHQdTQgJ"
      }
    },
    {
      "cell_type": "code",
      "source": [
        "apple_prev = apple_hist.copy()\n",
        "apple_prev = apple_prev.shift(1)\n",
        "\n",
        "apple_prev.head()"
      ],
      "metadata": {
        "colab": {
          "base_uri": "https://localhost:8080/",
          "height": 238
        },
        "id": "L5i8g53aO4j_",
        "outputId": "ebbdd813-51b7-4001-ccb5-23ba50f3f08d"
      },
      "execution_count": null,
      "outputs": [
        {
          "output_type": "execute_result",
          "data": {
            "text/plain": [
              "                               Open      High       Low     Close  \\\n",
              "Date                                                                \n",
              "1980-12-12 00:00:00-05:00       NaN       NaN       NaN       NaN   \n",
              "1980-12-15 00:00:00-05:00  0.099874  0.100308  0.099874  0.099874   \n",
              "1980-12-16 00:00:00-05:00  0.095098  0.095098  0.094663  0.094663   \n",
              "1980-12-17 00:00:00-05:00  0.088149  0.088149  0.087715  0.087715   \n",
              "1980-12-18 00:00:00-05:00  0.089886  0.090320  0.089886  0.089886   \n",
              "\n",
              "                                Volume  Dividends  Stock Splits  \n",
              "Date                                                             \n",
              "1980-12-12 00:00:00-05:00          NaN        NaN           NaN  \n",
              "1980-12-15 00:00:00-05:00  469033600.0        0.0           0.0  \n",
              "1980-12-16 00:00:00-05:00  175884800.0        0.0           0.0  \n",
              "1980-12-17 00:00:00-05:00  105728000.0        0.0           0.0  \n",
              "1980-12-18 00:00:00-05:00   86441600.0        0.0           0.0  "
            ],
            "text/html": [
              "\n",
              "  <div id=\"df-7a894541-cec9-42e9-b6f3-521221b16d85\">\n",
              "    <div class=\"colab-df-container\">\n",
              "      <div>\n",
              "<style scoped>\n",
              "    .dataframe tbody tr th:only-of-type {\n",
              "        vertical-align: middle;\n",
              "    }\n",
              "\n",
              "    .dataframe tbody tr th {\n",
              "        vertical-align: top;\n",
              "    }\n",
              "\n",
              "    .dataframe thead th {\n",
              "        text-align: right;\n",
              "    }\n",
              "</style>\n",
              "<table border=\"1\" class=\"dataframe\">\n",
              "  <thead>\n",
              "    <tr style=\"text-align: right;\">\n",
              "      <th></th>\n",
              "      <th>Open</th>\n",
              "      <th>High</th>\n",
              "      <th>Low</th>\n",
              "      <th>Close</th>\n",
              "      <th>Volume</th>\n",
              "      <th>Dividends</th>\n",
              "      <th>Stock Splits</th>\n",
              "    </tr>\n",
              "    <tr>\n",
              "      <th>Date</th>\n",
              "      <th></th>\n",
              "      <th></th>\n",
              "      <th></th>\n",
              "      <th></th>\n",
              "      <th></th>\n",
              "      <th></th>\n",
              "      <th></th>\n",
              "    </tr>\n",
              "  </thead>\n",
              "  <tbody>\n",
              "    <tr>\n",
              "      <th>1980-12-12 00:00:00-05:00</th>\n",
              "      <td>NaN</td>\n",
              "      <td>NaN</td>\n",
              "      <td>NaN</td>\n",
              "      <td>NaN</td>\n",
              "      <td>NaN</td>\n",
              "      <td>NaN</td>\n",
              "      <td>NaN</td>\n",
              "    </tr>\n",
              "    <tr>\n",
              "      <th>1980-12-15 00:00:00-05:00</th>\n",
              "      <td>0.099874</td>\n",
              "      <td>0.100308</td>\n",
              "      <td>0.099874</td>\n",
              "      <td>0.099874</td>\n",
              "      <td>469033600.0</td>\n",
              "      <td>0.0</td>\n",
              "      <td>0.0</td>\n",
              "    </tr>\n",
              "    <tr>\n",
              "      <th>1980-12-16 00:00:00-05:00</th>\n",
              "      <td>0.095098</td>\n",
              "      <td>0.095098</td>\n",
              "      <td>0.094663</td>\n",
              "      <td>0.094663</td>\n",
              "      <td>175884800.0</td>\n",
              "      <td>0.0</td>\n",
              "      <td>0.0</td>\n",
              "    </tr>\n",
              "    <tr>\n",
              "      <th>1980-12-17 00:00:00-05:00</th>\n",
              "      <td>0.088149</td>\n",
              "      <td>0.088149</td>\n",
              "      <td>0.087715</td>\n",
              "      <td>0.087715</td>\n",
              "      <td>105728000.0</td>\n",
              "      <td>0.0</td>\n",
              "      <td>0.0</td>\n",
              "    </tr>\n",
              "    <tr>\n",
              "      <th>1980-12-18 00:00:00-05:00</th>\n",
              "      <td>0.089886</td>\n",
              "      <td>0.090320</td>\n",
              "      <td>0.089886</td>\n",
              "      <td>0.089886</td>\n",
              "      <td>86441600.0</td>\n",
              "      <td>0.0</td>\n",
              "      <td>0.0</td>\n",
              "    </tr>\n",
              "  </tbody>\n",
              "</table>\n",
              "</div>\n",
              "      <button class=\"colab-df-convert\" onclick=\"convertToInteractive('df-7a894541-cec9-42e9-b6f3-521221b16d85')\"\n",
              "              title=\"Convert this dataframe to an interactive table.\"\n",
              "              style=\"display:none;\">\n",
              "        \n",
              "  <svg xmlns=\"http://www.w3.org/2000/svg\" height=\"24px\"viewBox=\"0 0 24 24\"\n",
              "       width=\"24px\">\n",
              "    <path d=\"M0 0h24v24H0V0z\" fill=\"none\"/>\n",
              "    <path d=\"M18.56 5.44l.94 2.06.94-2.06 2.06-.94-2.06-.94-.94-2.06-.94 2.06-2.06.94zm-11 1L8.5 8.5l.94-2.06 2.06-.94-2.06-.94L8.5 2.5l-.94 2.06-2.06.94zm10 10l.94 2.06.94-2.06 2.06-.94-2.06-.94-.94-2.06-.94 2.06-2.06.94z\"/><path d=\"M17.41 7.96l-1.37-1.37c-.4-.4-.92-.59-1.43-.59-.52 0-1.04.2-1.43.59L10.3 9.45l-7.72 7.72c-.78.78-.78 2.05 0 2.83L4 21.41c.39.39.9.59 1.41.59.51 0 1.02-.2 1.41-.59l7.78-7.78 2.81-2.81c.8-.78.8-2.07 0-2.86zM5.41 20L4 18.59l7.72-7.72 1.47 1.35L5.41 20z\"/>\n",
              "  </svg>\n",
              "      </button>\n",
              "      \n",
              "  <style>\n",
              "    .colab-df-container {\n",
              "      display:flex;\n",
              "      flex-wrap:wrap;\n",
              "      gap: 12px;\n",
              "    }\n",
              "\n",
              "    .colab-df-convert {\n",
              "      background-color: #E8F0FE;\n",
              "      border: none;\n",
              "      border-radius: 50%;\n",
              "      cursor: pointer;\n",
              "      display: none;\n",
              "      fill: #1967D2;\n",
              "      height: 32px;\n",
              "      padding: 0 0 0 0;\n",
              "      width: 32px;\n",
              "    }\n",
              "\n",
              "    .colab-df-convert:hover {\n",
              "      background-color: #E2EBFA;\n",
              "      box-shadow: 0px 1px 2px rgba(60, 64, 67, 0.3), 0px 1px 3px 1px rgba(60, 64, 67, 0.15);\n",
              "      fill: #174EA6;\n",
              "    }\n",
              "\n",
              "    [theme=dark] .colab-df-convert {\n",
              "      background-color: #3B4455;\n",
              "      fill: #D2E3FC;\n",
              "    }\n",
              "\n",
              "    [theme=dark] .colab-df-convert:hover {\n",
              "      background-color: #434B5C;\n",
              "      box-shadow: 0px 1px 3px 1px rgba(0, 0, 0, 0.15);\n",
              "      filter: drop-shadow(0px 1px 2px rgba(0, 0, 0, 0.3));\n",
              "      fill: #FFFFFF;\n",
              "    }\n",
              "  </style>\n",
              "\n",
              "      <script>\n",
              "        const buttonEl =\n",
              "          document.querySelector('#df-7a894541-cec9-42e9-b6f3-521221b16d85 button.colab-df-convert');\n",
              "        buttonEl.style.display =\n",
              "          google.colab.kernel.accessAllowed ? 'block' : 'none';\n",
              "\n",
              "        async function convertToInteractive(key) {\n",
              "          const element = document.querySelector('#df-7a894541-cec9-42e9-b6f3-521221b16d85');\n",
              "          const dataTable =\n",
              "            await google.colab.kernel.invokeFunction('convertToInteractive',\n",
              "                                                     [key], {});\n",
              "          if (!dataTable) return;\n",
              "\n",
              "          const docLinkHtml = 'Like what you see? Visit the ' +\n",
              "            '<a target=\"_blank\" href=https://colab.research.google.com/notebooks/data_table.ipynb>data table notebook</a>'\n",
              "            + ' to learn more about interactive tables.';\n",
              "          element.innerHTML = '';\n",
              "          dataTable['output_type'] = 'display_data';\n",
              "          await google.colab.output.renderOutput(dataTable, element);\n",
              "          const docLink = document.createElement('div');\n",
              "          docLink.innerHTML = docLinkHtml;\n",
              "          element.appendChild(docLink);\n",
              "        }\n",
              "      </script>\n",
              "    </div>\n",
              "  </div>\n",
              "  "
            ]
          },
          "metadata": {},
          "execution_count": 5
        }
      ]
    },
    {
      "cell_type": "markdown",
      "source": [
        "#Combining our data\n",
        "Next, we need to combine our Target with the columns we want to use to predict the target. We’ll use this with the join method on DataFrames.\n",
        "\n",
        "After we join our data, we see that we’ll be predicting the target using data from the previous day. The columns we’ll use to predict our target are [\"Close\", \"Volume\", \"Open\", \"High\", \"Low\"].\n",
        "\n",
        "It’s good to be explicit with predictors to avoid accidentally using your target to predict itself. This will make your model look really good in training, but won’t work at all in the real world."
      ],
      "metadata": {
        "id": "T1h1BvTBTU_G"
      }
    },
    {
      "cell_type": "code",
      "source": [
        "# Create our training data\n",
        "predictors = [\"Close\", \"Volume\", \"Open\", \"High\", \"Low\"]\n",
        "data = data.join(apple_prev[predictors]).iloc[1:]\n",
        "\n",
        "data.head()"
      ],
      "metadata": {
        "colab": {
          "base_uri": "https://localhost:8080/",
          "height": 238
        },
        "id": "Dhvtu_LmPG2v",
        "outputId": "693ac354-fbbb-435f-81fb-a7f1d088daca"
      },
      "execution_count": null,
      "outputs": [
        {
          "output_type": "execute_result",
          "data": {
            "text/plain": [
              "                           Actual_Close  Target     Close       Volume  \\\n",
              "Date                                                                     \n",
              "1980-12-15 00:00:00-05:00      0.094663     0.0  0.099874  469033600.0   \n",
              "1980-12-16 00:00:00-05:00      0.087715     0.0  0.094663  175884800.0   \n",
              "1980-12-17 00:00:00-05:00      0.089886     1.0  0.087715  105728000.0   \n",
              "1980-12-18 00:00:00-05:00      0.092492     1.0  0.089886   86441600.0   \n",
              "1980-12-19 00:00:00-05:00      0.098137     1.0  0.092492   73449600.0   \n",
              "\n",
              "                               Open      High       Low  \n",
              "Date                                                     \n",
              "1980-12-15 00:00:00-05:00  0.099874  0.100308  0.099874  \n",
              "1980-12-16 00:00:00-05:00  0.095098  0.095098  0.094663  \n",
              "1980-12-17 00:00:00-05:00  0.088149  0.088149  0.087715  \n",
              "1980-12-18 00:00:00-05:00  0.089886  0.090320  0.089886  \n",
              "1980-12-19 00:00:00-05:00  0.092492  0.092926  0.092492  "
            ],
            "text/html": [
              "\n",
              "  <div id=\"df-99d56ebd-021c-423b-be3c-6f91b52cf0f2\">\n",
              "    <div class=\"colab-df-container\">\n",
              "      <div>\n",
              "<style scoped>\n",
              "    .dataframe tbody tr th:only-of-type {\n",
              "        vertical-align: middle;\n",
              "    }\n",
              "\n",
              "    .dataframe tbody tr th {\n",
              "        vertical-align: top;\n",
              "    }\n",
              "\n",
              "    .dataframe thead th {\n",
              "        text-align: right;\n",
              "    }\n",
              "</style>\n",
              "<table border=\"1\" class=\"dataframe\">\n",
              "  <thead>\n",
              "    <tr style=\"text-align: right;\">\n",
              "      <th></th>\n",
              "      <th>Actual_Close</th>\n",
              "      <th>Target</th>\n",
              "      <th>Close</th>\n",
              "      <th>Volume</th>\n",
              "      <th>Open</th>\n",
              "      <th>High</th>\n",
              "      <th>Low</th>\n",
              "    </tr>\n",
              "    <tr>\n",
              "      <th>Date</th>\n",
              "      <th></th>\n",
              "      <th></th>\n",
              "      <th></th>\n",
              "      <th></th>\n",
              "      <th></th>\n",
              "      <th></th>\n",
              "      <th></th>\n",
              "    </tr>\n",
              "  </thead>\n",
              "  <tbody>\n",
              "    <tr>\n",
              "      <th>1980-12-15 00:00:00-05:00</th>\n",
              "      <td>0.094663</td>\n",
              "      <td>0.0</td>\n",
              "      <td>0.099874</td>\n",
              "      <td>469033600.0</td>\n",
              "      <td>0.099874</td>\n",
              "      <td>0.100308</td>\n",
              "      <td>0.099874</td>\n",
              "    </tr>\n",
              "    <tr>\n",
              "      <th>1980-12-16 00:00:00-05:00</th>\n",
              "      <td>0.087715</td>\n",
              "      <td>0.0</td>\n",
              "      <td>0.094663</td>\n",
              "      <td>175884800.0</td>\n",
              "      <td>0.095098</td>\n",
              "      <td>0.095098</td>\n",
              "      <td>0.094663</td>\n",
              "    </tr>\n",
              "    <tr>\n",
              "      <th>1980-12-17 00:00:00-05:00</th>\n",
              "      <td>0.089886</td>\n",
              "      <td>1.0</td>\n",
              "      <td>0.087715</td>\n",
              "      <td>105728000.0</td>\n",
              "      <td>0.088149</td>\n",
              "      <td>0.088149</td>\n",
              "      <td>0.087715</td>\n",
              "    </tr>\n",
              "    <tr>\n",
              "      <th>1980-12-18 00:00:00-05:00</th>\n",
              "      <td>0.092492</td>\n",
              "      <td>1.0</td>\n",
              "      <td>0.089886</td>\n",
              "      <td>86441600.0</td>\n",
              "      <td>0.089886</td>\n",
              "      <td>0.090320</td>\n",
              "      <td>0.089886</td>\n",
              "    </tr>\n",
              "    <tr>\n",
              "      <th>1980-12-19 00:00:00-05:00</th>\n",
              "      <td>0.098137</td>\n",
              "      <td>1.0</td>\n",
              "      <td>0.092492</td>\n",
              "      <td>73449600.0</td>\n",
              "      <td>0.092492</td>\n",
              "      <td>0.092926</td>\n",
              "      <td>0.092492</td>\n",
              "    </tr>\n",
              "  </tbody>\n",
              "</table>\n",
              "</div>\n",
              "      <button class=\"colab-df-convert\" onclick=\"convertToInteractive('df-99d56ebd-021c-423b-be3c-6f91b52cf0f2')\"\n",
              "              title=\"Convert this dataframe to an interactive table.\"\n",
              "              style=\"display:none;\">\n",
              "        \n",
              "  <svg xmlns=\"http://www.w3.org/2000/svg\" height=\"24px\"viewBox=\"0 0 24 24\"\n",
              "       width=\"24px\">\n",
              "    <path d=\"M0 0h24v24H0V0z\" fill=\"none\"/>\n",
              "    <path d=\"M18.56 5.44l.94 2.06.94-2.06 2.06-.94-2.06-.94-.94-2.06-.94 2.06-2.06.94zm-11 1L8.5 8.5l.94-2.06 2.06-.94-2.06-.94L8.5 2.5l-.94 2.06-2.06.94zm10 10l.94 2.06.94-2.06 2.06-.94-2.06-.94-.94-2.06-.94 2.06-2.06.94z\"/><path d=\"M17.41 7.96l-1.37-1.37c-.4-.4-.92-.59-1.43-.59-.52 0-1.04.2-1.43.59L10.3 9.45l-7.72 7.72c-.78.78-.78 2.05 0 2.83L4 21.41c.39.39.9.59 1.41.59.51 0 1.02-.2 1.41-.59l7.78-7.78 2.81-2.81c.8-.78.8-2.07 0-2.86zM5.41 20L4 18.59l7.72-7.72 1.47 1.35L5.41 20z\"/>\n",
              "  </svg>\n",
              "      </button>\n",
              "      \n",
              "  <style>\n",
              "    .colab-df-container {\n",
              "      display:flex;\n",
              "      flex-wrap:wrap;\n",
              "      gap: 12px;\n",
              "    }\n",
              "\n",
              "    .colab-df-convert {\n",
              "      background-color: #E8F0FE;\n",
              "      border: none;\n",
              "      border-radius: 50%;\n",
              "      cursor: pointer;\n",
              "      display: none;\n",
              "      fill: #1967D2;\n",
              "      height: 32px;\n",
              "      padding: 0 0 0 0;\n",
              "      width: 32px;\n",
              "    }\n",
              "\n",
              "    .colab-df-convert:hover {\n",
              "      background-color: #E2EBFA;\n",
              "      box-shadow: 0px 1px 2px rgba(60, 64, 67, 0.3), 0px 1px 3px 1px rgba(60, 64, 67, 0.15);\n",
              "      fill: #174EA6;\n",
              "    }\n",
              "\n",
              "    [theme=dark] .colab-df-convert {\n",
              "      background-color: #3B4455;\n",
              "      fill: #D2E3FC;\n",
              "    }\n",
              "\n",
              "    [theme=dark] .colab-df-convert:hover {\n",
              "      background-color: #434B5C;\n",
              "      box-shadow: 0px 1px 3px 1px rgba(0, 0, 0, 0.15);\n",
              "      filter: drop-shadow(0px 1px 2px rgba(0, 0, 0, 0.3));\n",
              "      fill: #FFFFFF;\n",
              "    }\n",
              "  </style>\n",
              "\n",
              "      <script>\n",
              "        const buttonEl =\n",
              "          document.querySelector('#df-99d56ebd-021c-423b-be3c-6f91b52cf0f2 button.colab-df-convert');\n",
              "        buttonEl.style.display =\n",
              "          google.colab.kernel.accessAllowed ? 'block' : 'none';\n",
              "\n",
              "        async function convertToInteractive(key) {\n",
              "          const element = document.querySelector('#df-99d56ebd-021c-423b-be3c-6f91b52cf0f2');\n",
              "          const dataTable =\n",
              "            await google.colab.kernel.invokeFunction('convertToInteractive',\n",
              "                                                     [key], {});\n",
              "          if (!dataTable) return;\n",
              "\n",
              "          const docLinkHtml = 'Like what you see? Visit the ' +\n",
              "            '<a target=\"_blank\" href=https://colab.research.google.com/notebooks/data_table.ipynb>data table notebook</a>'\n",
              "            + ' to learn more about interactive tables.';\n",
              "          element.innerHTML = '';\n",
              "          dataTable['output_type'] = 'display_data';\n",
              "          await google.colab.output.renderOutput(dataTable, element);\n",
              "          const docLink = document.createElement('div');\n",
              "          docLink.innerHTML = docLinkHtml;\n",
              "          element.appendChild(docLink);\n",
              "        }\n",
              "      </script>\n",
              "    </div>\n",
              "  </div>\n",
              "  "
            ]
          },
          "metadata": {},
          "execution_count": 6
        }
      ]
    },
    {
      "cell_type": "markdown",
      "source": [
        "#Creating a machine learning model\n",
        "Next, we’ll create a machine learning model to see how accurately we can predict the stock price.\n",
        "\n",
        "Because we’re dealing with time series data, we can’t just use cross-validation to create predictions for the whole dataset. This will cause leakage where data from the future will be used to predict past prices. This doesn’t match with the real world, and will make us think that our algorithm is much better than it actually is.\n",
        "\n",
        "Instead, we’ll split the data sequentially. We’ll start off by predicting just the last 100 rows using the other rows.\n",
        "\n",
        "We’ll use a random forest classifier to generate our predictions. This is a good “default” model for a lot of applications, because it can pick up nonlinear relationships in the data, and is somewhat robust to overfitting with the right parameters.\n",
        "\n",
        "This is just to setup our model and ensure that things are working properly. To get an accurate error metric, we need to backtest across our entire price history. Once we setup the model, this will be our next step.\n",
        "\n",
        "#Setting up the model\n",
        "First, we’ll import a RandomForestClassifier from scikit-learn. We can install scikit-learn with pip install scikit-learn.\n",
        "\n",
        "We’re using a classification algorithm because our target is binary (0/1). A 1 means the price went up, a 0 means it went down. If we had a different type of target (like the actual price), we might use a regression algorithm.\n",
        "\n",
        "When we initialize the model, we pass in a few parameters:\n",
        "\n",
        "- n_estimators – this is the number of individual decision trees that the algorithm should create. A random forest is an ensemble of decision trees that is more robust to overfitting than an individual tree. The more trees, the more robust the algorithm, but fewer trees means it runs faster.\n",
        "- min_samples_split – this is minimum number of samples any decision tree should split on. The lower this is, the more prone the trees are to overfitting. Setting it higher also makes it run faster.\n",
        "- random_state – this is nice to set so that running the algorithm twice over the same data returns the same results.\n"
      ],
      "metadata": {
        "id": "zlLpqoVATaIm"
      }
    },
    {
      "cell_type": "code",
      "source": [
        "from sklearn.ensemble import RandomForestClassifier\n",
        "\n",
        "# Create a random forest classification model.  Set min_samples_split high to ensure we don't overfit.\n",
        "model = RandomForestClassifier(n_estimators=300, min_samples_split=200, random_state=1)"
      ],
      "metadata": {
        "id": "zU-Y28LIP4Hp"
      },
      "execution_count": null,
      "outputs": []
    },
    {
      "cell_type": "markdown",
      "source": [
        "#Training the model\n",
        "Once we’ve setup the model, we can train it on the last 100 rows of the dataset. We’re using all of the data except the last 100 rows to predict the last 100 rows. When you’re working with time series data, it’s important to never use future data to predict the past.\n",
        "\n",
        "The fit method will train the model using our predictors to predict the Target."
      ],
      "metadata": {
        "id": "5q6Lq6k6ThVI"
      }
    },
    {
      "cell_type": "code",
      "source": [
        "# Create a train and test set\n",
        "train = data.iloc[:-100]\n",
        "test = data.iloc[-100:]\n",
        "\n",
        "model.fit(train[predictors], train[\"Target\"])"
      ],
      "metadata": {
        "colab": {
          "base_uri": "https://localhost:8080/"
        },
        "id": "zj4PA3mCP7xn",
        "outputId": "ced4cc26-879a-42f5-cb9a-dac80b6ea284"
      },
      "execution_count": null,
      "outputs": [
        {
          "output_type": "execute_result",
          "data": {
            "text/plain": [
              "RandomForestClassifier(min_samples_split=200, n_estimators=300, random_state=1)"
            ]
          },
          "metadata": {},
          "execution_count": 77
        }
      ]
    },
    {
      "cell_type": "markdown",
      "source": [
        "#Measuring error\n",
        "Next, we’ll need to check how accurate the model was. Earlier, we mentioned using precision to measure error. We can do this by using the precision_score function from scikit-learn.\n",
        "\n",
        "Precision will tell us on what % of days that the algorithm said the price would go up it actually went up. Because we want to minimize risk, we want to have a high precision. This means that when we buy stock, we have high confidence that we’ll make money.\n",
        "\n",
        "Below, we do the following to calculate precision:\n",
        "\n",
        "- Import the scikit-learn precision_score function\n",
        "- Generate predictions from our model using the predict function. This will give us a 0 or a 1 for each row.\n",
        "- The predict method returns a numpy array. To make it easier to work with, we’ll turn it into a pandas Series.\n",
        "- Finally, we execute the precision_score function, passing in the predictions and the target.\n",
        "\n",
        "As you can see below, our precision is only .46, which is not great. That means that when the model predicted that prices would go up, they only went up 46% of the time."
      ],
      "metadata": {
        "id": "aZOodJ40TnWr"
      }
    },
    {
      "cell_type": "code",
      "source": [
        "from sklearn.metrics import precision_score\n",
        "\n",
        "# Evaluate error of predictions\n",
        "preds = model.predict(test[predictors])\n",
        "preds = pd.Series(preds, index=test.index)\n",
        "precision_score(test[\"Target\"], preds)"
      ],
      "metadata": {
        "colab": {
          "base_uri": "https://localhost:8080/"
        },
        "id": "4lCQDHnpQAEm",
        "outputId": "0a37d7a7-adca-417a-9309-c6a0af92da55"
      },
      "execution_count": null,
      "outputs": [
        {
          "output_type": "execute_result",
          "data": {
            "text/plain": [
              "0.47297297297297297"
            ]
          },
          "metadata": {},
          "execution_count": 78
        }
      ]
    },
    {
      "cell_type": "markdown",
      "source": [
        "Our model is directionally accurate 46% of the time. This is a little worse  than a coin flip! We can take a deeper look at the individual predictions and the actuals, and see where we’re off.\n",
        "\n",
        "We can do this by plotting the target against the predictions. We do this by first combining the Target column and Predictions column into one DataFrame using the concat function. This function joins two pandas objects. In this case, each object is a series, so we want to join them on axis=1, so each one becomes a column.\n",
        "\n",
        "Then, we can plot the DataFrame to visualize both columns.\n",
        "\n",
        "As we can see, the model predicted that the price would go up every single day. This is not ideal, but we’ve setup the model, and can now move on to backtesting."
      ],
      "metadata": {
        "id": "WhAhn-nwTwWI"
      }
    },
    {
      "cell_type": "code",
      "source": [
        "combined = pd.concat({\"Target\": test[\"Target\"],\"Predictions\": preds}, axis=1)\n",
        "combined.plot()"
      ],
      "metadata": {
        "colab": {
          "base_uri": "https://localhost:8080/",
          "height": 295
        },
        "id": "WLXJqNVAQE_1",
        "outputId": "c10d6c9e-8565-4064-dae5-35dc1ceaf68b"
      },
      "execution_count": null,
      "outputs": [
        {
          "output_type": "execute_result",
          "data": {
            "text/plain": [
              "<matplotlib.axes._subplots.AxesSubplot at 0x7fab49759df0>"
            ]
          },
          "metadata": {},
          "execution_count": 79
        },
        {
          "output_type": "display_data",
          "data": {
            "text/plain": [
              "<Figure size 432x288 with 1 Axes>"
            ],
            "image/png": "[encoded data removed]"
          },
          "metadata": {
            "needs_background": "light"
          }
        }
      ]
    },
    {
      "cell_type": "markdown",
      "source": [
        "#Creating a backtesting function\n",
        "Finally, we’ll wrap the loop in a function, to make it easier to work with. A function means we can easily call it later. The function will take the data, the machine learning model, and the predictors as inputs. We’ll also set start and step as optional parameters.\n",
        "\n",
        "In the backtesting function, we will:\n",
        "- Split the training and test data\n",
        "- Train a model\n",
        "- Make predictions on the test data using predict_proba\n",
        "- Combine our predictions with the actual Target, so we can calculate error easily\n",
        "- Return all of the predictions\n",
        "\n",
        "This function will enable us to create predictions across our whole dataset whenever we want."
      ],
      "metadata": {
        "id": "HUc1I9fjURgs"
      }
    },
    {
      "cell_type": "code",
      "source": [
        "def backtest(data, model, predictors, start=1000, step=750):\n",
        "    predictions = []\n",
        "    # Loop over the dataset in increments\n",
        "    for i in range(start, data.shape[0], step):\n",
        "        # Split into train and test sets\n",
        "        train = data.iloc[0:i].copy()\n",
        "        test = data.iloc[i:(i+step)].copy()\n",
        "\n",
        "        # Fit the random forest model\n",
        "        model.fit(train[predictors], train[\"Target\"])\n",
        "\n",
        "        # Make predictions\n",
        "        preds = model.predict_proba(test[predictors])[:,1]\n",
        "        preds = pd.Series(preds, index=test.index)\n",
        "        preds[preds >.65] = 1\n",
        "        preds[preds<=.65] = 0\n",
        "\n",
        "        # Combine predictions and test values\n",
        "        combined = pd.concat({\"Target\": test[\"Target\"],\"Predictions\": preds}, axis=1)\n",
        "\n",
        "        predictions.append(combined)\n",
        "\n",
        "    return pd.concat(predictions)"
      ],
      "metadata": {
        "id": "jzBvRUeiQduI"
      },
      "execution_count": null,
      "outputs": []
    },
    {
      "cell_type": "markdown",
      "source": [
        "#Running the function\n",
        "Now that we’ve created a backtesting function, we can call it to generate predictions across the entire dataset."
      ],
      "metadata": {
        "id": "dJg_UfGDUdO2"
      }
    },
    {
      "cell_type": "code",
      "source": [
        "predictions = backtest(data, model, predictors)"
      ],
      "metadata": {
        "id": "skb_negxUbo2"
      },
      "execution_count": null,
      "outputs": []
    },
    {
      "cell_type": "markdown",
      "source": [
        "Next, let’s use the value_counts method to identify how many times the algorithm predicted the price would go up versus down.\n",
        "\n",
        "As you can see, the algorithm only predicted that the price would go up 739 times. In the Target, you see that the price actually went up 3945 times. So the algorithm predicted the price would go up far fewer times than it actually did. This means that the algorithm had low recall, which is the % chance of finding all of the days where the price went up.\n",
        "\n",
        "This is because we used .6 as a threshold for whether the price would go up or not. If we used a lower threshold, we would increase recall, but lower precision. Since we want to minimize our risk, we want to maximize precision. So it’s okay if the algorithm only predicts the price will go up on very few days."
      ],
      "metadata": {
        "id": "0d4jtXG0UfoD"
      }
    },
    {
      "cell_type": "code",
      "source": [
        "predictions[\"Predictions\"].value_counts()"
      ],
      "metadata": {
        "colab": {
          "base_uri": "https://localhost:8080/"
        },
        "id": "WiGdTpf1Qf_M",
        "outputId": "0a65d1a7-6ce4-4cce-c9e4-4113b56e6d57"
      },
      "execution_count": null,
      "outputs": [
        {
          "output_type": "execute_result",
          "data": {
            "text/plain": [
              "0.0    9601\n",
              "1.0      10\n",
              "Name: Predictions, dtype: int64"
            ]
          },
          "metadata": {},
          "execution_count": 92
        }
      ]
    },
    {
      "cell_type": "code",
      "source": [
        "predictions[\"Target\"].value_counts()"
      ],
      "metadata": {
        "colab": {
          "base_uri": "https://localhost:8080/"
        },
        "id": "aiOMhn-6Qotu",
        "outputId": "6ffb38bd-e32a-4e7f-a86c-5bd34424537b"
      },
      "execution_count": null,
      "outputs": [
        {
          "output_type": "execute_result",
          "data": {
            "text/plain": [
              "1.0    4817\n",
              "0.0    4794\n",
              "Name: Target, dtype: int64"
            ]
          },
          "metadata": {},
          "execution_count": 93
        }
      ]
    },
    {
      "cell_type": "markdown",
      "source": [
        "Finally, let’s look at precision. We can use the same function from before to evaluate this.\n",
        "\n",
        "It looks like we have a low precision as well. This is because the algorithm has limited predictors to help it determine if the price will go up or down. We’ll add some more predictors next to help the algorithm make better decisions."
      ],
      "metadata": {
        "id": "6nhHSNIEUjyw"
      }
    },
    {
      "cell_type": "code",
      "source": [
        "precision_score(predictions[\"Target\"], predictions[\"Predictions\"])"
      ],
      "metadata": {
        "colab": {
          "base_uri": "https://localhost:8080/"
        },
        "id": "MuPLOpD7QsJp",
        "outputId": "1a6ba117-e54b-4b0e-8300-44721f802d72"
      },
      "execution_count": null,
      "outputs": [
        {
          "output_type": "execute_result",
          "data": {
            "text/plain": [
              "0.7"
            ]
          },
          "metadata": {},
          "execution_count": 94
        }
      ]
    },
    {
      "cell_type": "markdown",
      "source": [
        "#Improving accuracy\n",
        "The model isn’t very accurate, but at least now we can make predictions across the entire history of the stock. For this model to be useful, we have to get it to predict more accurately.\n",
        "\n",
        "Let’s add some more predictors to see if we can improve accuracy.\n",
        "\n",
        "We’ll add in some rolling means, so the model can evaluate the current price against recent prices. We’ll also look at the ratios between different indicators.\n",
        "\n",
        "#Rolling means\n",
        "Rolling means are useful because they can help the algorithm evaluate the current price against the average price this week, quarter, or year. For example, if the price now is higher than the annual price, it could mean that the stock is on an upward trend.\n",
        "\n",
        "To calculate the rolling averages, we’ll again use the pandas rolling method to find the rolling mean of the Close column for different time horizons."
      ],
      "metadata": {
        "id": "AvRb3K01Umc1"
      }
    },
    {
      "cell_type": "code",
      "source": [
        "weekly_mean = data.rolling(7).mean()[\"Close\"]\n",
        "quarterly_mean = data.rolling(90).mean()[\"Close\"]\n",
        "annual_mean = data.rolling(365).mean()[\"Close\"]\n",
        "\n",
        "weekly_trend = data.shift(1).rolling(7).sum()[\"Target\"]"
      ],
      "metadata": {
        "id": "L6J8JoTKQvo1"
      },
      "execution_count": null,
      "outputs": []
    },
    {
      "cell_type": "markdown",
      "source": [
        "Next, we’ll add our weekly trend into the predictor DataFrame."
      ],
      "metadata": {
        "id": "dMf0l_zZU9de"
      }
    },
    {
      "cell_type": "code",
      "source": [
        "data[\"weekly_mean\"] = weekly_mean / data[\"Close\"]\n",
        "data[\"quarterly_mean\"] = quarterly_mean / data[\"Close\"]\n",
        "data[\"annual_mean\"] = annual_mean / data[\"Close\"]\n",
        "\n",
        "data[\"annual_weekly_mean\"] = data[\"annual_mean\"] / data[\"weekly_mean\"]\n",
        "data[\"annual_quarterly_mean\"] = data[\"annual_mean\"] / data[\"quarterly_mean\"]\n",
        "\n",
        "data[\"weekly_trend\"] = weekly_trend\n",
        "\n",
        "data[\"open_close_ratio\"] = data[\"Open\"] / data[\"Close\"]\n",
        "data[\"high_close_ratio\"] = data[\"High\"] / data[\"Close\"]\n",
        "data[\"low_close_ratio\"] = data[\"Low\"] / data[\"Close\"]"
      ],
      "metadata": {
        "id": "jR4qdj_sQ3td"
      },
      "execution_count": null,
      "outputs": []
    },
    {
      "cell_type": "code",
      "source": [
        "full_predictors = predictors + [\"weekly_mean\", \"quarterly_mean\", \"annual_mean\", \"annual_weekly_mean\", \"annual_quarterly_mean\", \n",
        "                                \"open_close_ratio\", \"high_close_ratio\", \"low_close_ratio\", \"weekly_trend\"]\n",
        "predictions = backtest(data.iloc[365:], model, full_predictors)"
      ],
      "metadata": {
        "id": "EawcUw_lQ82-"
      },
      "execution_count": null,
      "outputs": []
    },
    {
      "cell_type": "code",
      "source": [
        "precision_score(predictions[\"Target\"], predictions[\"Predictions\"])"
      ],
      "metadata": {
        "colab": {
          "base_uri": "https://localhost:8080/"
        },
        "id": "X0k_HYtDa3cE",
        "outputId": "00de6103-a834-4fff-9023-49a71747fe2c"
      },
      "execution_count": null,
      "outputs": [
        {
          "output_type": "stream",
          "name": "stderr",
          "text": [
            "/usr/local/lib/python3.8/dist-packages/sklearn/metrics/_classification.py:1318: UndefinedMetricWarning: Precision is ill-defined and being set to 0.0 due to no predicted samples. Use `zero_division` parameter to control this behavior.\n",
            "  _warn_prf(average, modifier, msg_start, len(result))\n"
          ]
        },
        {
          "output_type": "execute_result",
          "data": {
            "text/plain": [
              "0.0"
            ]
          },
          "metadata": {},
          "execution_count": 99
        }
      ]
    },
    {
      "cell_type": "code",
      "source": [
        "# Show how many trades we would make\n",
        "\n",
        "predictions[\"Predictions\"].value_counts()"
      ],
      "metadata": {
        "colab": {
          "base_uri": "https://localhost:8080/"
        },
        "id": "8EJRE7wJRqX2",
        "outputId": "fa29ca76-9d55-4bb7-97f2-06ff9d232241"
      },
      "execution_count": null,
      "outputs": [
        {
          "output_type": "execute_result",
          "data": {
            "text/plain": [
              "0.0    7650\n",
              "1.0    1596\n",
              "Name: Predictions, dtype: int64"
            ]
          },
          "metadata": {},
          "execution_count": 49
        }
      ]
    },
    {
      "cell_type": "code",
      "source": [
        "# Look at trades we would have made in the last 100 days\n",
        "predictions.iloc[-100:].plot()"
      ],
      "metadata": {
        "colab": {
          "base_uri": "https://localhost:8080/",
          "height": 295
        },
        "id": "fBPZyp3qRrnv",
        "outputId": "cfef6f34-c0b7-4622-cddc-7126ffce0f39"
      },
      "execution_count": null,
      "outputs": [
        {
          "output_type": "execute_result",
          "data": {
            "text/plain": [
              "<matplotlib.axes._subplots.AxesSubplot at 0x7fab4a358ca0>"
            ]
          },
          "metadata": {},
          "execution_count": 50
        },
        {
          "output_type": "display_data",
          "data": {
            "text/plain": [
              "<Figure size 432x288 with 1 Axes>"
            ],
            "image/png": "[encoded data removed]"
          },
          "metadata": {
            "needs_background": "light"
          }
        }
      ]
    },
    {
      "cell_type": "markdown",
      "source": [
        "#Next steps\n",
        "We've come far in this project! We've downloaded and cleaned data, and setup a backtesting engine. We now have an algorithm that we can add more predictors to and continue to improve the accuracy of.\n",
        "\n",
        "There are a lot of next steps we could take to improve our predictions:\n",
        "\n",
        "#Improve the technique\n",
        "- Calculate how much money you'd make if you traded with this algorithm\n",
        "\n",
        "#Improve the algorithm\n",
        "- Run with a reduced step size! This will take longer, but increase accuracy\n",
        "- Try discarding older data (only keeping data in a certain window)\n",
        "- Try a different machine learning algorithm\n",
        "- Tweak random forest parameters, or the prediction threshold\n",
        "\n",
        "#Add in more predictors\n",
        "- Account for activity post-close and pre-open\n",
        "  - Early trading\n",
        "  - Trading on other exchanges that open before the NYSE (to see what the global sentiment is)\n",
        "- Economic indicators\n",
        "  - Interest rates\n",
        "  - Other important economic news\n",
        "- Key dates\n",
        "  - Dividends\n",
        "  - External factors like elections\n",
        "- Company milestones\n",
        "  - Earnings calls\n",
        "  - Analyst ratings\n",
        "  - Major announcements\n",
        "- Prices of related stocks\n",
        "  - Other companies in the same sector\n",
        "  - Key partners, customers, etc."
      ],
      "metadata": {
        "id": "-clgi5-9br6X"
      }
    }
  ]
}